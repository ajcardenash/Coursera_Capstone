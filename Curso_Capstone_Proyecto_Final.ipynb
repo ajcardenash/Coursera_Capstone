{
  "nbformat": 4,
  "nbformat_minor": 0,
  "metadata": {
    "colab": {
      "name": "Curso Capstone - Proyecto Final.ipynb",
      "provenance": [],
      "collapsed_sections": []
    },
    "kernelspec": {
      "name": "python3",
      "display_name": "Python 3"
    },
    "language_info": {
      "name": "python"
    }
  },
  "cells": [
    {
      "cell_type": "markdown",
      "source": [
        "##Este notebook se utilizará principalmente para el proyecto final del micro curso Ciencia de Datos Aplicada - Curso Capstone del curso Data Science III - Especialist en la universidad UPC (Perú)."
      ],
      "metadata": {
        "id": "zyo9jTiO539X"
      }
    },
    {
      "cell_type": "code",
      "execution_count": 1,
      "metadata": {
        "id": "REka3Zva2vaC"
      },
      "outputs": [],
      "source": [
        "import pandas as pd"
      ]
    },
    {
      "cell_type": "code",
      "source": [
        "import numpy as np"
      ],
      "metadata": {
        "id": "ZfBBdfBE51kI"
      },
      "execution_count": 2,
      "outputs": []
    },
    {
      "cell_type": "code",
      "source": [
        "print(\"¡Hola, Proyecto Final del curso!\")"
      ],
      "metadata": {
        "colab": {
          "base_uri": "https://localhost:8080/"
        },
        "id": "KPyKKRwN6bAB",
        "outputId": "5fa92870-83ec-4973-9135-08b687d7f478"
      },
      "execution_count": 3,
      "outputs": [
        {
          "output_type": "stream",
          "name": "stdout",
          "text": [
            "¡Hola, Proyecto Final del curso!\n"
          ]
        }
      ]
    },
    {
      "cell_type": "code",
      "source": [
        ""
      ],
      "metadata": {
        "id": "12_-r3e76gtg"
      },
      "execution_count": null,
      "outputs": []
    }
  ]
}